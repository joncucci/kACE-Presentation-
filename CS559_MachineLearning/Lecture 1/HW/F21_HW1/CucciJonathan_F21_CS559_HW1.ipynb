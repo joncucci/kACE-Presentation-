{
 "cells": [
  {
   "cell_type": "markdown",
   "metadata": {},
   "source": [
    "# <center> Fall 2021 CS559: Homework #1 </center>"
   ]
  },
  {
   "cell_type": "markdown",
   "metadata": {},
   "source": [
    "### <center> Due: **9/23/2021 Thursday 11:59 PM** </center>\n",
    "\n",
    "\n",
    "\n",
    "- Before you start, rename the file as *LastNameFirstName*_F21_CS559_HW1 (e.g., JangInsuk_F21_CS559_HW1). \n",
    "- Submit the assignment both in format of *ipynb* and *html*. \n",
    "    - Export the file as *HTML* as `File`>`Download as`>`HTML`. \n",
    "    - Do not need to print results of middle-process work. Only the final answers must be printed while all lines must be excuted. \n",
    "    - Clean up unnecessary lines and codes with errors. \n",
    "    - Use *Markdown* to explain answers and results. \n",
    "    - **Do not need to compress** the files. You can submit files individually.\n",
    "    - Only one time submission is allowd \n",
    "- This assignment focuses on topics of linear algebra, probability theory, and EDA. \n",
    "    - For linear algebra questions, when the question says \"implement\", you are not allowed to use any built-in functions from `NumPy` or similar libraries that do the job. (e.g., if the question is to implement dot prodcut function, do not use `numpy.dot`). \n",
    "- This assignment should an individual work. Do not collaborate with classmates or get help from 3rd person. You may surf internet if you need to. Then site the reference. "
   ]
  },
  {
   "cell_type": "markdown",
   "metadata": {},
   "source": [
    "### Problem 1 [20 pts]\n",
    "This problem task to implement functions of matrix operations - multiplication and tranpose. Please do not use numpy matrix packages in implementations.  \n",
    "\n",
    "1-a: Implement a function `mat_product` to calculate the matrix product of two n by n arrays. [8 pts] \n",
    "$$C_{ij}=\\sum_{i,j,k=1}^nA_{ik}B_{kj}$$"
   ]
  },
  {
   "cell_type": "markdown",
   "metadata": {},
   "source": [
    "### Author: Jon Cucci\n",
    "#### I pledge my honor that I have abided by the Stevens Honor System."
   ]
  },
  {
   "cell_type": "code",
   "execution_count": 2,
   "metadata": {},
   "outputs": [],
   "source": [
    "import numpy as np"
   ]
  },
  {
   "cell_type": "code",
   "execution_count": 3,
   "metadata": {},
   "outputs": [],
   "source": [
    "### Code Starts Here\n",
    "def mat_product(A,B):\n",
    "    \n",
    "    n = len(A)\n",
    "    result = []\n",
    "    \n",
    "    for i in range(n):\n",
    "        index = []\n",
    "        for j in range(n):\n",
    "            temp_result = 0\n",
    "            for k in range(n):\n",
    "                temp_result += A[i][k] * B[k][j]\n",
    "            index.append(temp_result)\n",
    "        result.append(index)\n",
    "    \n",
    "    return np.array(result)"
   ]
  },
  {
   "cell_type": "code",
   "execution_count": 4,
   "metadata": {},
   "outputs": [
    {
     "data": {
      "text/plain": [
       "array([[19, 22],\n",
       "       [43, 50]])"
      ]
     },
     "execution_count": 4,
     "metadata": {},
     "output_type": "execute_result"
    }
   ],
   "source": [
    "# 2x2 Matrix Product\n",
    "#\n",
    "# Correct output:\n",
    "# 19 22\n",
    "# 43 50\n",
    "\n",
    "mat_product(\n",
    "              [[1, 2],\n",
    "               [3, 4]],\n",
    "              [[5, 6],\n",
    "               [7, 8]]\n",
    "             )"
   ]
  },
  {
   "cell_type": "code",
   "execution_count": 5,
   "metadata": {},
   "outputs": [
    {
     "data": {
      "text/plain": [
       "array([[177, 149, 100],\n",
       "       [149, 133, 102],\n",
       "       [ 19,  19,  16]])"
      ]
     },
     "execution_count": 5,
     "metadata": {},
     "output_type": "execute_result"
    }
   ],
   "source": [
    "# 3x3 Matrix Product\n",
    "#\n",
    "# Correct output:\n",
    "# 177 149 100\n",
    "# 149 133 102\n",
    "# 19  19  16\n",
    "\n",
    "mat_product(\n",
    "              [[3, 12, 4],\n",
    "               [5, 6, 8],\n",
    "               [1, 0, 2]],\n",
    "              [[7, 3, 8],\n",
    "               [11, 9, 5],\n",
    "               [6, 8, 4]]\n",
    "             )"
   ]
  },
  {
   "cell_type": "markdown",
   "metadata": {},
   "source": [
    "1-b Generate two random 3 by 3 matrices, ${\\bf X}$ and ${\\bf Y}$, whose elements are from 0 to 10. Print the result. [2 pts]"
   ]
  },
  {
   "cell_type": "code",
   "execution_count": 6,
   "metadata": {},
   "outputs": [],
   "source": [
    "### Test Starts Here\n",
    "np.random.seed(123)\n",
    "X=np.random.randint(10, size=[3, 3])\n",
    "Y=np.random.randint(10, size=[3, 3])"
   ]
  },
  {
   "cell_type": "code",
   "execution_count": 7,
   "metadata": {},
   "outputs": [
    {
     "data": {
      "text/plain": [
       "array([[26, 36,  6],\n",
       "       [37, 36,  9],\n",
       "       [ 6, 63,  3]])"
      ]
     },
     "execution_count": 7,
     "metadata": {},
     "output_type": "execute_result"
    }
   ],
   "source": [
    "mat_product(X,Y)"
   ]
  },
  {
   "cell_type": "markdown",
   "metadata": {},
   "source": [
    "1-c Inplement a function `mat_transpose()` that transposes ${\\bf X}$ and use the `mat_product` function to find the matrice of product: $Z={\\bf X}^T\\cdot{\\bf Y}$. Compare the result with using `np.matmul()`. [10 pts]\n"
   ]
  },
  {
   "cell_type": "code",
   "execution_count": 8,
   "metadata": {},
   "outputs": [
    {
     "name": "stdout",
     "output_type": "stream",
     "text": [
      "[[2 2 6]\n",
      " [1 3 9]\n",
      " [6 1 0]]\n"
     ]
    },
    {
     "data": {
      "text/plain": [
       "[[2, 1, 6], [2, 3, 1], [6, 9, 0]]"
      ]
     },
     "execution_count": 8,
     "metadata": {},
     "output_type": "execute_result"
    }
   ],
   "source": [
    "### Code Starts Here\n",
    "def mat_transpose(X):\n",
    "    \n",
    "    n = len(X)\n",
    "    result = [[0]*n for _ in range(n)]\n",
    "    \n",
    "    for i in range(n):\n",
    "        for j in range(n):\n",
    "            result[i][j] = X[j][i]\n",
    "    return result\n",
    "        \n",
    "print(X)\n",
    "mat_transpose(X)"
   ]
  },
  {
   "cell_type": "code",
   "execution_count": 9,
   "metadata": {},
   "outputs": [
    {
     "name": "stdout",
     "output_type": "stream",
     "text": [
      "[[ 26  27   3]\n",
      " [  6  45   9]\n",
      " [  6 135  27]]\n"
     ]
    }
   ],
   "source": [
    "Z=mat_product(mat_transpose(X),Y)\n",
    "print(Z)"
   ]
  },
  {
   "cell_type": "code",
   "execution_count": 10,
   "metadata": {},
   "outputs": [
    {
     "name": "stdout",
     "output_type": "stream",
     "text": [
      "[[ 26  27   3]\n",
      " [  6  45   9]\n",
      " [  6 135  27]]\n"
     ]
    }
   ],
   "source": [
    "### Code np.matmul() starts here\n",
    "Z= np.matmul(np.transpose(X), Y)\n",
    "print(Z)"
   ]
  },
  {
   "cell_type": "markdown",
   "metadata": {},
   "source": [
    "### Problem 2 [20 pts]\n",
    "2-a: Create a simulatior `coin_prob(pi,n,k)` for $n$ fair coins (whose probability is $\\pi=0.5$) flipping $N$ times with the number of trials increase by the intervals of 50, $t=50,100,150,200,\\cdots,10000$, having $k$ number of heads. [10 pts]\n",
    "\n",
    "   - Use the sample data to compute the maximum likelihood estiamte probabilty $s$, `np.random.binomial()`, of $\\pi$.\n",
    "   - Have the simulator return the result of $t$ and $s$ as a data frame \"ProbTable\". \n",
    "   "
   ]
  },
  {
   "cell_type": "code",
   "execution_count": 15,
   "metadata": {},
   "outputs": [],
   "source": [
    "### Code Starts Here\n",
    "import pandas as pd\n",
    "import numpy as np\n",
    "def coin_prob(pi,n,k):\n",
    "    \n",
    "    \"\"\"\n",
    "    Simulator to calculate a probability of n coins \n",
    "    flipping N times with t trials having k number of heads: head (=1)\n",
    "    \"\"\"\n",
    "    \n",
    "    ProbTable=pd.DataFrame(columns = ['t', 's'])\n",
    "    for t in range(50, 10001, 50):\n",
    "        \n",
    "        x = np.random.binomial(n, pi, t)\n",
    "        s = [np.equal(x,i).mean() for i in range(n)]\n",
    "        \n",
    "        ProbTable = ProbTable.append({\n",
    "            't': t, \n",
    "            's' : s[k-1]}, ignore_index=True)\n",
    "\n",
    "    return(ProbTable)\n",
    "\n",
    "#coin_prob(0.5 , 10, 5)"
   ]
  },
  {
   "cell_type": "markdown",
   "metadata": {},
   "source": [
    "2-b: Test the simulator when $n=1$ and $k=1$. Plot the estimates of $\\pi$ as a function of sample size. Indicate the expected probability using a horizontal line. [5 pts]"
   ]
  },
  {
   "cell_type": "code",
   "execution_count": 16,
   "metadata": {},
   "outputs": [
    {
     "data": {
      "text/html": [
       "<div>\n",
       "<style scoped>\n",
       "    .dataframe tbody tr th:only-of-type {\n",
       "        vertical-align: middle;\n",
       "    }\n",
       "\n",
       "    .dataframe tbody tr th {\n",
       "        vertical-align: top;\n",
       "    }\n",
       "\n",
       "    .dataframe thead th {\n",
       "        text-align: right;\n",
       "    }\n",
       "</style>\n",
       "<table border=\"1\" class=\"dataframe\">\n",
       "  <thead>\n",
       "    <tr style=\"text-align: right;\">\n",
       "      <th></th>\n",
       "      <th>t</th>\n",
       "      <th>s</th>\n",
       "    </tr>\n",
       "  </thead>\n",
       "  <tbody>\n",
       "    <tr>\n",
       "      <th>0</th>\n",
       "      <td>50.0</td>\n",
       "      <td>0.380000</td>\n",
       "    </tr>\n",
       "    <tr>\n",
       "      <th>1</th>\n",
       "      <td>100.0</td>\n",
       "      <td>0.520000</td>\n",
       "    </tr>\n",
       "    <tr>\n",
       "      <th>2</th>\n",
       "      <td>150.0</td>\n",
       "      <td>0.506667</td>\n",
       "    </tr>\n",
       "    <tr>\n",
       "      <th>3</th>\n",
       "      <td>200.0</td>\n",
       "      <td>0.545000</td>\n",
       "    </tr>\n",
       "    <tr>\n",
       "      <th>4</th>\n",
       "      <td>250.0</td>\n",
       "      <td>0.484000</td>\n",
       "    </tr>\n",
       "    <tr>\n",
       "      <th>...</th>\n",
       "      <td>...</td>\n",
       "      <td>...</td>\n",
       "    </tr>\n",
       "    <tr>\n",
       "      <th>195</th>\n",
       "      <td>9800.0</td>\n",
       "      <td>0.501020</td>\n",
       "    </tr>\n",
       "    <tr>\n",
       "      <th>196</th>\n",
       "      <td>9850.0</td>\n",
       "      <td>0.496244</td>\n",
       "    </tr>\n",
       "    <tr>\n",
       "      <th>197</th>\n",
       "      <td>9900.0</td>\n",
       "      <td>0.501414</td>\n",
       "    </tr>\n",
       "    <tr>\n",
       "      <th>198</th>\n",
       "      <td>9950.0</td>\n",
       "      <td>0.494874</td>\n",
       "    </tr>\n",
       "    <tr>\n",
       "      <th>199</th>\n",
       "      <td>10000.0</td>\n",
       "      <td>0.495200</td>\n",
       "    </tr>\n",
       "  </tbody>\n",
       "</table>\n",
       "<p>200 rows × 2 columns</p>\n",
       "</div>"
      ],
      "text/plain": [
       "           t         s\n",
       "0       50.0  0.380000\n",
       "1      100.0  0.520000\n",
       "2      150.0  0.506667\n",
       "3      200.0  0.545000\n",
       "4      250.0  0.484000\n",
       "..       ...       ...\n",
       "195   9800.0  0.501020\n",
       "196   9850.0  0.496244\n",
       "197   9900.0  0.501414\n",
       "198   9950.0  0.494874\n",
       "199  10000.0  0.495200\n",
       "\n",
       "[200 rows x 2 columns]"
      ]
     },
     "execution_count": 16,
     "metadata": {},
     "output_type": "execute_result"
    }
   ],
   "source": [
    "one_coins=coin_prob(pi=.5,n=1,k=1)\n",
    "one_coins"
   ]
  },
  {
   "cell_type": "code",
   "execution_count": 193,
   "metadata": {},
   "outputs": [
    {
     "data": {
      "image/png": "[encoded data removed]",
      "text/plain": [
       "<Figure size 432x288 with 1 Axes>"
      ]
     },
     "metadata": {
      "needs_background": "light"
     },
     "output_type": "display_data"
    },
    {
     "name": "stdout",
     "output_type": "stream",
     "text": [
      "Experimental P: 0.49944611487640905\n",
      "Theoretical P: 0.5\n"
     ]
    }
   ],
   "source": [
    "### Code Starts Here\n",
    "import matplotlib.pyplot as plt\n",
    "\n",
    "plt.plot(one_coins.t, one_coins.s, 'g-')\n",
    "plt.axhline(y=one_coins.s.mean(), color='r', linestyle='--')\n",
    "plt.xlabel('Sample Size')\n",
    "plt.ylabel('Probability')\n",
    "plt.title('Probability vs. Sample Size ')\n",
    "plt.show()\n",
    "print(\"Experimental P: \"+ str(one_coins.s.mean()))\n",
    "print(\"Theoretical P: 0.5\")"
   ]
  },
  {
   "cell_type": "markdown",
   "metadata": {},
   "source": [
    "2-c: Calculate the probability of having **1 head ($k=1$)** when 3 coins are flipped. Report the expected value.  [5 pts]"
   ]
  },
  {
   "cell_type": "code",
   "execution_count": 194,
   "metadata": {},
   "outputs": [
    {
     "name": "stdout",
     "output_type": "stream",
     "text": [
      "0.125\n"
     ]
    }
   ],
   "source": [
    "### Code starts here\n",
    "from math import factorial as fact\n",
    "k = 1\n",
    "n = 3\n",
    "output = (((fact(n) / (fact(k) * fact(n - k)))) / 2 ** n)/ n\n",
    "print(output)"
   ]
  },
  {
   "cell_type": "markdown",
   "metadata": {},
   "source": [
    "2-d: Evaluate your answer in 3-c using the simulator. Show a plot that supports your evaluation. [3 pts]"
   ]
  },
  {
   "cell_type": "code",
   "execution_count": 195,
   "metadata": {},
   "outputs": [],
   "source": [
    "three_coins=coin_prob(pi=.5,n=3,k=1)"
   ]
  },
  {
   "cell_type": "code",
   "execution_count": 196,
   "metadata": {},
   "outputs": [
    {
     "data": {
      "image/png": "[encoded data removed]",
      "text/plain": [
       "<Figure size 432x288 with 1 Axes>"
      ]
     },
     "metadata": {
      "needs_background": "light"
     },
     "output_type": "display_data"
    },
    {
     "name": "stdout",
     "output_type": "stream",
     "text": [
      "Experimental P: 0.12540147400272952\n",
      "Theoretical P: 0.125\n"
     ]
    }
   ],
   "source": [
    "\"\"\"Plot shows here\"\"\"\n",
    "import matplotlib.pyplot as plt\n",
    "\n",
    "plt.plot(three_coins.t, three_coins.s, 'g-')\n",
    "plt.axhline(y=three_coins.s.mean(), color='r', linestyle='--')\n",
    "plt.xlabel('Sample Size')\n",
    "plt.ylabel('Probability')\n",
    "plt.title('Probability vs. Sample Size ')\n",
    "plt.show()\n",
    "print(\"Experimental P: \"+ str(three_coins.s.mean()))\n",
    "print(\"Theoretical P: 0.125\")"
   ]
  },
  {
   "cell_type": "markdown",
   "metadata": {},
   "source": [
    "### Problem 3 [20 pts]\n",
    "\n",
    "Load the Gross Domestic Product data for the 190 ranked countries in the file **GDP.csv**. Load **Country.csv** into a DataFrame. "
   ]
  },
  {
   "cell_type": "code",
   "execution_count": 197,
   "metadata": {},
   "outputs": [],
   "source": [
    "gdp = pd.read_csv('GDP.csv', skiprows=range(5), header= None, usecols=[0,1,3,4], nrows=190,encoding='ISO-8859-1')\n",
    "gdp.columns = ['CountryCode', 'Rank', 'CountryName', 'GDP']\n",
    "Country = pd.read_csv('Country.csv',encoding='ISO-8859-1')"
   ]
  },
  {
   "cell_type": "markdown",
   "metadata": {},
   "source": [
    "3-a: Match the `CountryCode` and merge two data frames. Call the new data frame as `Country_GDP`. How many of the IDs match?\n",
    "Use the link for hints: https://pandas.pydata.org/pandas-docs/stable/user_guide/merging.html [5 pts]"
   ]
  },
  {
   "cell_type": "code",
   "execution_count": 198,
   "metadata": {},
   "outputs": [
    {
     "data": {
      "text/html": [
       "<div>\n",
       "<style scoped>\n",
       "    .dataframe tbody tr th:only-of-type {\n",
       "        vertical-align: middle;\n",
       "    }\n",
       "\n",
       "    .dataframe tbody tr th {\n",
       "        vertical-align: top;\n",
       "    }\n",
       "\n",
       "    .dataframe thead th {\n",
       "        text-align: right;\n",
       "    }\n",
       "</style>\n",
       "<table border=\"1\" class=\"dataframe\">\n",
       "  <thead>\n",
       "    <tr style=\"text-align: right;\">\n",
       "      <th></th>\n",
       "      <th>CountryCode</th>\n",
       "      <th>Rank</th>\n",
       "      <th>CountryName</th>\n",
       "      <th>GDP</th>\n",
       "      <th>Long Name</th>\n",
       "      <th>Income Group</th>\n",
       "      <th>Region</th>\n",
       "      <th>Lending category</th>\n",
       "      <th>Other groups</th>\n",
       "      <th>Currency Unit</th>\n",
       "      <th>...</th>\n",
       "      <th>Source of most recent Income and expenditure data</th>\n",
       "      <th>Vital registration complete</th>\n",
       "      <th>Latest agricultural census</th>\n",
       "      <th>Latest industrial data</th>\n",
       "      <th>Latest trade data</th>\n",
       "      <th>Latest water withdrawal data</th>\n",
       "      <th>2-alpha code</th>\n",
       "      <th>WB-2 code</th>\n",
       "      <th>Table Name</th>\n",
       "      <th>Short Name</th>\n",
       "    </tr>\n",
       "  </thead>\n",
       "  <tbody>\n",
       "    <tr>\n",
       "      <th>0</th>\n",
       "      <td>USA</td>\n",
       "      <td>1</td>\n",
       "      <td>United States</td>\n",
       "      <td>16244600.0</td>\n",
       "      <td>United States of America</td>\n",
       "      <td>High income: OECD</td>\n",
       "      <td>North America</td>\n",
       "      <td>NaN</td>\n",
       "      <td>NaN</td>\n",
       "      <td>U.S. dollar</td>\n",
       "      <td>...</td>\n",
       "      <td>LFS 2000</td>\n",
       "      <td>Yes</td>\n",
       "      <td>1997/2002</td>\n",
       "      <td>2004.0</td>\n",
       "      <td>2008.0</td>\n",
       "      <td>2000.0</td>\n",
       "      <td>US</td>\n",
       "      <td>US</td>\n",
       "      <td>United States</td>\n",
       "      <td>United States</td>\n",
       "    </tr>\n",
       "    <tr>\n",
       "      <th>1</th>\n",
       "      <td>CHN</td>\n",
       "      <td>2</td>\n",
       "      <td>China</td>\n",
       "      <td>8227103.0</td>\n",
       "      <td>People's Republic of China</td>\n",
       "      <td>Lower middle income</td>\n",
       "      <td>East Asia &amp; Pacific</td>\n",
       "      <td>IBRD</td>\n",
       "      <td>NaN</td>\n",
       "      <td>Chinese yuan</td>\n",
       "      <td>...</td>\n",
       "      <td>IHS, 2005</td>\n",
       "      <td>NaN</td>\n",
       "      <td>1997</td>\n",
       "      <td>2005.0</td>\n",
       "      <td>2008.0</td>\n",
       "      <td>2000.0</td>\n",
       "      <td>CN</td>\n",
       "      <td>CN</td>\n",
       "      <td>China</td>\n",
       "      <td>China</td>\n",
       "    </tr>\n",
       "    <tr>\n",
       "      <th>2</th>\n",
       "      <td>JPN</td>\n",
       "      <td>3</td>\n",
       "      <td>Japan</td>\n",
       "      <td>5959718.0</td>\n",
       "      <td>Japan</td>\n",
       "      <td>High income: OECD</td>\n",
       "      <td>East Asia &amp; Pacific</td>\n",
       "      <td>NaN</td>\n",
       "      <td>NaN</td>\n",
       "      <td>Japanese yen</td>\n",
       "      <td>...</td>\n",
       "      <td>IS, 1993</td>\n",
       "      <td>Yes</td>\n",
       "      <td>2000</td>\n",
       "      <td>2004.0</td>\n",
       "      <td>2008.0</td>\n",
       "      <td>2000.0</td>\n",
       "      <td>JP</td>\n",
       "      <td>JP</td>\n",
       "      <td>Japan</td>\n",
       "      <td>Japan</td>\n",
       "    </tr>\n",
       "    <tr>\n",
       "      <th>3</th>\n",
       "      <td>DEU</td>\n",
       "      <td>4</td>\n",
       "      <td>Germany</td>\n",
       "      <td>3428131.0</td>\n",
       "      <td>Federal Republic of Germany</td>\n",
       "      <td>High income: OECD</td>\n",
       "      <td>Europe &amp; Central Asia</td>\n",
       "      <td>NaN</td>\n",
       "      <td>Euro area</td>\n",
       "      <td>Euro</td>\n",
       "      <td>...</td>\n",
       "      <td>IHS, 2000</td>\n",
       "      <td>Yes</td>\n",
       "      <td>1999-2000</td>\n",
       "      <td>2004.0</td>\n",
       "      <td>2008.0</td>\n",
       "      <td>2000.0</td>\n",
       "      <td>DE</td>\n",
       "      <td>DE</td>\n",
       "      <td>Germany</td>\n",
       "      <td>Germany</td>\n",
       "    </tr>\n",
       "    <tr>\n",
       "      <th>4</th>\n",
       "      <td>FRA</td>\n",
       "      <td>5</td>\n",
       "      <td>France</td>\n",
       "      <td>2612878.0</td>\n",
       "      <td>French Republic</td>\n",
       "      <td>High income: OECD</td>\n",
       "      <td>Europe &amp; Central Asia</td>\n",
       "      <td>NaN</td>\n",
       "      <td>Euro area</td>\n",
       "      <td>Euro</td>\n",
       "      <td>...</td>\n",
       "      <td>ES/BS, 1994/95</td>\n",
       "      <td>Yes</td>\n",
       "      <td>1999-2000</td>\n",
       "      <td>2004.0</td>\n",
       "      <td>2008.0</td>\n",
       "      <td>2000.0</td>\n",
       "      <td>FR</td>\n",
       "      <td>FR</td>\n",
       "      <td>France</td>\n",
       "      <td>France</td>\n",
       "    </tr>\n",
       "    <tr>\n",
       "      <th>...</th>\n",
       "      <td>...</td>\n",
       "      <td>...</td>\n",
       "      <td>...</td>\n",
       "      <td>...</td>\n",
       "      <td>...</td>\n",
       "      <td>...</td>\n",
       "      <td>...</td>\n",
       "      <td>...</td>\n",
       "      <td>...</td>\n",
       "      <td>...</td>\n",
       "      <td>...</td>\n",
       "      <td>...</td>\n",
       "      <td>...</td>\n",
       "      <td>...</td>\n",
       "      <td>...</td>\n",
       "      <td>...</td>\n",
       "      <td>...</td>\n",
       "      <td>...</td>\n",
       "      <td>...</td>\n",
       "      <td>...</td>\n",
       "      <td>...</td>\n",
       "    </tr>\n",
       "    <tr>\n",
       "      <th>184</th>\n",
       "      <td>STP</td>\n",
       "      <td>186</td>\n",
       "      <td>São Tomé and Principe</td>\n",
       "      <td>263.0</td>\n",
       "      <td>Democratic Republic of São Tomé and Principe</td>\n",
       "      <td>Lower middle income</td>\n",
       "      <td>Sub-Saharan Africa</td>\n",
       "      <td>IDA</td>\n",
       "      <td>HIPC</td>\n",
       "      <td>São Tomé and Principe dobra</td>\n",
       "      <td>...</td>\n",
       "      <td>PS 2000-01</td>\n",
       "      <td>NaN</td>\n",
       "      <td>NaN</td>\n",
       "      <td>NaN</td>\n",
       "      <td>2008.0</td>\n",
       "      <td>NaN</td>\n",
       "      <td>ST</td>\n",
       "      <td>ST</td>\n",
       "      <td>São Tomé and Principe</td>\n",
       "      <td>São Tomé and Principe</td>\n",
       "    </tr>\n",
       "    <tr>\n",
       "      <th>185</th>\n",
       "      <td>PLW</td>\n",
       "      <td>187</td>\n",
       "      <td>Palau</td>\n",
       "      <td>228.0</td>\n",
       "      <td>Republic of Palau</td>\n",
       "      <td>Upper middle income</td>\n",
       "      <td>East Asia &amp; Pacific</td>\n",
       "      <td>IBRD</td>\n",
       "      <td>NaN</td>\n",
       "      <td>U.S. dollar</td>\n",
       "      <td>...</td>\n",
       "      <td>NaN</td>\n",
       "      <td>Yes</td>\n",
       "      <td>NaN</td>\n",
       "      <td>NaN</td>\n",
       "      <td>NaN</td>\n",
       "      <td>NaN</td>\n",
       "      <td>PW</td>\n",
       "      <td>PW</td>\n",
       "      <td>Palau</td>\n",
       "      <td>Palau</td>\n",
       "    </tr>\n",
       "    <tr>\n",
       "      <th>186</th>\n",
       "      <td>MHL</td>\n",
       "      <td>188</td>\n",
       "      <td>Marshall Islands</td>\n",
       "      <td>182.0</td>\n",
       "      <td>Republic of the Marshall Islands</td>\n",
       "      <td>Lower middle income</td>\n",
       "      <td>East Asia &amp; Pacific</td>\n",
       "      <td>IBRD</td>\n",
       "      <td>NaN</td>\n",
       "      <td>U.S. dollar</td>\n",
       "      <td>...</td>\n",
       "      <td>NaN</td>\n",
       "      <td>NaN</td>\n",
       "      <td>NaN</td>\n",
       "      <td>NaN</td>\n",
       "      <td>NaN</td>\n",
       "      <td>NaN</td>\n",
       "      <td>MH</td>\n",
       "      <td>MH</td>\n",
       "      <td>Marshall Islands</td>\n",
       "      <td>Marshall Islands</td>\n",
       "    </tr>\n",
       "    <tr>\n",
       "      <th>187</th>\n",
       "      <td>KIR</td>\n",
       "      <td>189</td>\n",
       "      <td>Kiribati</td>\n",
       "      <td>175.0</td>\n",
       "      <td>Republic of Kiribati</td>\n",
       "      <td>Lower middle income</td>\n",
       "      <td>East Asia &amp; Pacific</td>\n",
       "      <td>IDA</td>\n",
       "      <td>NaN</td>\n",
       "      <td>Australian dollar</td>\n",
       "      <td>...</td>\n",
       "      <td>NaN</td>\n",
       "      <td>NaN</td>\n",
       "      <td>NaN</td>\n",
       "      <td>NaN</td>\n",
       "      <td>2005.0</td>\n",
       "      <td>NaN</td>\n",
       "      <td>KI</td>\n",
       "      <td>KI</td>\n",
       "      <td>Kiribati</td>\n",
       "      <td>Kiribati</td>\n",
       "    </tr>\n",
       "    <tr>\n",
       "      <th>188</th>\n",
       "      <td>TUV</td>\n",
       "      <td>190</td>\n",
       "      <td>Tuvalu</td>\n",
       "      <td>40.0</td>\n",
       "      <td>Tuvalu</td>\n",
       "      <td>Lower middle income</td>\n",
       "      <td>East Asia &amp; Pacific</td>\n",
       "      <td>NaN</td>\n",
       "      <td>NaN</td>\n",
       "      <td>Australian dollar</td>\n",
       "      <td>...</td>\n",
       "      <td>NaN</td>\n",
       "      <td>NaN</td>\n",
       "      <td>NaN</td>\n",
       "      <td>NaN</td>\n",
       "      <td>NaN</td>\n",
       "      <td>NaN</td>\n",
       "      <td>TV</td>\n",
       "      <td>TV</td>\n",
       "      <td>Tuvalu</td>\n",
       "      <td>Tuvalu</td>\n",
       "    </tr>\n",
       "  </tbody>\n",
       "</table>\n",
       "<p>189 rows × 34 columns</p>\n",
       "</div>"
      ],
      "text/plain": [
       "    CountryCode  Rank            CountryName         GDP  \\\n",
       "0           USA     1          United States  16244600.0   \n",
       "1           CHN     2                  China   8227103.0   \n",
       "2           JPN     3                  Japan   5959718.0   \n",
       "3           DEU     4                Germany   3428131.0   \n",
       "4           FRA     5                 France   2612878.0   \n",
       "..          ...   ...                    ...         ...   \n",
       "184         STP   186  São Tomé and Principe       263.0   \n",
       "185         PLW   187                  Palau       228.0   \n",
       "186         MHL   188       Marshall Islands       182.0   \n",
       "187         KIR   189               Kiribati       175.0   \n",
       "188         TUV   190                 Tuvalu        40.0   \n",
       "\n",
       "                                        Long Name         Income Group  \\\n",
       "0                        United States of America    High income: OECD   \n",
       "1                      People's Republic of China  Lower middle income   \n",
       "2                                           Japan    High income: OECD   \n",
       "3                     Federal Republic of Germany    High income: OECD   \n",
       "4                                 French Republic    High income: OECD   \n",
       "..                                            ...                  ...   \n",
       "184  Democratic Republic of São Tomé and Principe  Lower middle income   \n",
       "185                             Republic of Palau  Upper middle income   \n",
       "186              Republic of the Marshall Islands  Lower middle income   \n",
       "187                          Republic of Kiribati  Lower middle income   \n",
       "188                                        Tuvalu  Lower middle income   \n",
       "\n",
       "                    Region Lending category Other groups  \\\n",
       "0            North America              NaN          NaN   \n",
       "1      East Asia & Pacific             IBRD          NaN   \n",
       "2      East Asia & Pacific              NaN          NaN   \n",
       "3    Europe & Central Asia              NaN    Euro area   \n",
       "4    Europe & Central Asia              NaN    Euro area   \n",
       "..                     ...              ...          ...   \n",
       "184     Sub-Saharan Africa              IDA         HIPC   \n",
       "185    East Asia & Pacific             IBRD          NaN   \n",
       "186    East Asia & Pacific             IBRD          NaN   \n",
       "187    East Asia & Pacific              IDA          NaN   \n",
       "188    East Asia & Pacific              NaN          NaN   \n",
       "\n",
       "                   Currency Unit  ...  \\\n",
       "0                    U.S. dollar  ...   \n",
       "1                   Chinese yuan  ...   \n",
       "2                   Japanese yen  ...   \n",
       "3                           Euro  ...   \n",
       "4                           Euro  ...   \n",
       "..                           ...  ...   \n",
       "184  São Tomé and Principe dobra  ...   \n",
       "185                  U.S. dollar  ...   \n",
       "186                  U.S. dollar  ...   \n",
       "187            Australian dollar  ...   \n",
       "188            Australian dollar  ...   \n",
       "\n",
       "    Source of most recent Income and expenditure data  \\\n",
       "0                                            LFS 2000   \n",
       "1                                           IHS, 2005   \n",
       "2                                            IS, 1993   \n",
       "3                                           IHS, 2000   \n",
       "4                                      ES/BS, 1994/95   \n",
       "..                                                ...   \n",
       "184                                        PS 2000-01   \n",
       "185                                               NaN   \n",
       "186                                               NaN   \n",
       "187                                               NaN   \n",
       "188                                               NaN   \n",
       "\n",
       "    Vital registration complete Latest agricultural census  \\\n",
       "0                           Yes                  1997/2002   \n",
       "1                           NaN                       1997   \n",
       "2                           Yes                       2000   \n",
       "3                           Yes                  1999-2000   \n",
       "4                           Yes                  1999-2000   \n",
       "..                          ...                        ...   \n",
       "184                         NaN                        NaN   \n",
       "185                         Yes                        NaN   \n",
       "186                         NaN                        NaN   \n",
       "187                         NaN                        NaN   \n",
       "188                         NaN                        NaN   \n",
       "\n",
       "    Latest industrial data  Latest trade data  Latest water withdrawal data  \\\n",
       "0                   2004.0             2008.0                        2000.0   \n",
       "1                   2005.0             2008.0                        2000.0   \n",
       "2                   2004.0             2008.0                        2000.0   \n",
       "3                   2004.0             2008.0                        2000.0   \n",
       "4                   2004.0             2008.0                        2000.0   \n",
       "..                     ...                ...                           ...   \n",
       "184                    NaN             2008.0                           NaN   \n",
       "185                    NaN                NaN                           NaN   \n",
       "186                    NaN                NaN                           NaN   \n",
       "187                    NaN             2005.0                           NaN   \n",
       "188                    NaN                NaN                           NaN   \n",
       "\n",
       "    2-alpha code WB-2 code             Table Name             Short Name  \n",
       "0             US        US          United States          United States  \n",
       "1             CN        CN                  China                  China  \n",
       "2             JP        JP                  Japan                  Japan  \n",
       "3             DE        DE                Germany                Germany  \n",
       "4             FR        FR                 France                 France  \n",
       "..           ...       ...                    ...                    ...  \n",
       "184           ST        ST  São Tomé and Principe  São Tomé and Principe  \n",
       "185           PW        PW                  Palau                  Palau  \n",
       "186           MH        MH       Marshall Islands       Marshall Islands  \n",
       "187           KI        KI               Kiribati               Kiribati  \n",
       "188           TV        TV                 Tuvalu                 Tuvalu  \n",
       "\n",
       "[189 rows x 34 columns]"
      ]
     },
     "execution_count": 198,
     "metadata": {},
     "output_type": "execute_result"
    }
   ],
   "source": [
    "### Code Starts Here\n",
    "\n",
    "'''\n",
    "Merges Countries by country code, then changes GDP to INT values\n",
    "'''\n",
    "Country_GDP = pd.merge(gdp, Country, on=\"CountryCode\")\n",
    "Country_GDP['GDP'] = Country_GDP.iloc[:,3].str.replace(',', '').astype(float)\n",
    "Country_GDP"
   ]
  },
  {
   "cell_type": "code",
   "execution_count": 199,
   "metadata": {},
   "outputs": [
    {
     "data": {
      "text/plain": [
       "189"
      ]
     },
     "execution_count": 199,
     "metadata": {},
     "output_type": "execute_result"
    }
   ],
   "source": [
    "### Print the number of IDs\n",
    "'''\n",
    "Prints length of uniques IDs found in coutnry codes\n",
    "'''\n",
    "num_IDs = len(pd.unique(Country_GDP['CountryCode']))\n",
    "num_IDs"
   ]
  },
  {
   "cell_type": "markdown",
   "metadata": {},
   "source": [
    "3-b: Use visualization to determine the number of countries by `Region`. Which region has the largest number of countries? [5 pts]"
   ]
  },
  {
   "cell_type": "code",
   "execution_count": 200,
   "metadata": {},
   "outputs": [
    {
     "name": "stdout",
     "output_type": "stream",
     "text": [
      "Europe & Central Asia has the most countries with 50\n"
     ]
    },
    {
     "data": {
      "text/plain": [
       "<AxesSubplot:xlabel='Region'>"
      ]
     },
     "execution_count": 200,
     "metadata": {},
     "output_type": "execute_result"
    },
    {
     "data": {
      "image/png": "[encoded data removed]",
      "text/plain": [
       "<Figure size 432x288 with 1 Axes>"
      ]
     },
     "metadata": {
      "needs_background": "light"
     },
     "output_type": "display_data"
    }
   ],
   "source": [
    "### Code Starts Here\n",
    "'''\n",
    "Firstly, grouped by region and then used a Pandas max function to find the highest number of individual countries.\n",
    "Uses a reverse indexing to find out which is the Region\n",
    "'''\n",
    "regions = Country_GDP.groupby('Region').count()['CountryCode']\n",
    "max = regions.apply(lambda row: row == regions.max())\n",
    "print(str(max.index[max == True][0]) + \" has the most countries with \" + str(regions.max()))\n",
    "regions.plot(kind='bar')"
   ]
  },
  {
   "cell_type": "markdown",
   "metadata": {},
   "source": [
    "3-c: Test how GDPs are alike between regions using two-sample **Kolmogorov-Smirnov** test `ks_2samp()`. Make a data table show $KS-test$ and $p-$ values. Evalueate the result. Expian which regions have similar distributions. [5 pts]"
   ]
  },
  {
   "cell_type": "code",
   "execution_count": 201,
   "metadata": {},
   "outputs": [
    {
     "data": {
      "text/html": [
       "<div>\n",
       "<style scoped>\n",
       "    .dataframe tbody tr th:only-of-type {\n",
       "        vertical-align: middle;\n",
       "    }\n",
       "\n",
       "    .dataframe tbody tr th {\n",
       "        vertical-align: top;\n",
       "    }\n",
       "\n",
       "    .dataframe thead th {\n",
       "        text-align: right;\n",
       "    }\n",
       "</style>\n",
       "<table border=\"1\" class=\"dataframe\">\n",
       "  <thead>\n",
       "    <tr style=\"text-align: right;\">\n",
       "      <th></th>\n",
       "      <th>East Asia &amp; Pacific</th>\n",
       "      <th>Europe &amp; Central Asia</th>\n",
       "      <th>Latin America &amp; Caribbean</th>\n",
       "      <th>Middle East &amp; North Africa</th>\n",
       "      <th>North America</th>\n",
       "      <th>South Asia</th>\n",
       "      <th>Sub-Saharan Africa</th>\n",
       "    </tr>\n",
       "  </thead>\n",
       "  <tbody>\n",
       "    <tr>\n",
       "      <th>East Asia &amp; Pacific</th>\n",
       "      <td>(0.0, 1.0)</td>\n",
       "      <td>(0.37931, 0.006764)</td>\n",
       "      <td>(0.213793, 0.396412)</td>\n",
       "      <td>(0.496169, 0.004787)</td>\n",
       "      <td>(0.597701, 0.190323)</td>\n",
       "      <td>(0.344828, 0.358175)</td>\n",
       "      <td>(0.370315, 0.010559)</td>\n",
       "    </tr>\n",
       "    <tr>\n",
       "      <th>Europe &amp; Central Asia</th>\n",
       "      <td>(0.37931, 0.006764)</td>\n",
       "      <td>(0.0, 1.0)</td>\n",
       "      <td>(0.305714, 0.033283)</td>\n",
       "      <td>(0.244444, 0.344964)</td>\n",
       "      <td>(0.566667, 0.224793)</td>\n",
       "      <td>(0.26, 0.646914)</td>\n",
       "      <td>(0.573043, 0.0)</td>\n",
       "    </tr>\n",
       "    <tr>\n",
       "      <th>Latin America &amp; Caribbean</th>\n",
       "      <td>(0.213793, 0.396412)</td>\n",
       "      <td>(0.305714, 0.033283)</td>\n",
       "      <td>(0.0, 1.0)</td>\n",
       "      <td>(0.515873, 0.002319)</td>\n",
       "      <td>(0.638095, 0.124229)</td>\n",
       "      <td>(0.214286, 0.865937)</td>\n",
       "      <td>(0.325466, 0.021868)</td>\n",
       "    </tr>\n",
       "    <tr>\n",
       "      <th>Middle East &amp; North Africa</th>\n",
       "      <td>(0.496169, 0.004787)</td>\n",
       "      <td>(0.244444, 0.344964)</td>\n",
       "      <td>(0.515873, 0.002319)</td>\n",
       "      <td>(0.0, 1.0)</td>\n",
       "      <td>(0.666667, 0.144361)</td>\n",
       "      <td>(0.444444, 0.171065)</td>\n",
       "      <td>(0.792271, 0.0)</td>\n",
       "    </tr>\n",
       "    <tr>\n",
       "      <th>North America</th>\n",
       "      <td>(0.597701, 0.190323)</td>\n",
       "      <td>(0.566667, 0.224793)</td>\n",
       "      <td>(0.638095, 0.124229)</td>\n",
       "      <td>(0.666667, 0.144361)</td>\n",
       "      <td>(0.0, 1.0)</td>\n",
       "      <td>(0.541667, 0.424242)</td>\n",
       "      <td>(0.666667, 0.091945)</td>\n",
       "    </tr>\n",
       "    <tr>\n",
       "      <th>South Asia</th>\n",
       "      <td>(0.344828, 0.358175)</td>\n",
       "      <td>(0.26, 0.646914)</td>\n",
       "      <td>(0.214286, 0.865937)</td>\n",
       "      <td>(0.444444, 0.171065)</td>\n",
       "      <td>(0.541667, 0.424242)</td>\n",
       "      <td>(0.0, 1.0)</td>\n",
       "      <td>(0.48913, 0.051218)</td>\n",
       "    </tr>\n",
       "    <tr>\n",
       "      <th>Sub-Saharan Africa</th>\n",
       "      <td>(0.370315, 0.010559)</td>\n",
       "      <td>(0.573043, 0.0)</td>\n",
       "      <td>(0.325466, 0.021868)</td>\n",
       "      <td>(0.792271, 0.0)</td>\n",
       "      <td>(0.666667, 0.091945)</td>\n",
       "      <td>(0.48913, 0.051218)</td>\n",
       "      <td>(0.0, 1.0)</td>\n",
       "    </tr>\n",
       "  </tbody>\n",
       "</table>\n",
       "</div>"
      ],
      "text/plain": [
       "                             East Asia & Pacific Europe & Central Asia  \\\n",
       "East Asia & Pacific                   (0.0, 1.0)   (0.37931, 0.006764)   \n",
       "Europe & Central Asia        (0.37931, 0.006764)            (0.0, 1.0)   \n",
       "Latin America & Caribbean   (0.213793, 0.396412)  (0.305714, 0.033283)   \n",
       "Middle East & North Africa  (0.496169, 0.004787)  (0.244444, 0.344964)   \n",
       "North America               (0.597701, 0.190323)  (0.566667, 0.224793)   \n",
       "South Asia                  (0.344828, 0.358175)      (0.26, 0.646914)   \n",
       "Sub-Saharan Africa          (0.370315, 0.010559)       (0.573043, 0.0)   \n",
       "\n",
       "                           Latin America & Caribbean  \\\n",
       "East Asia & Pacific             (0.213793, 0.396412)   \n",
       "Europe & Central Asia           (0.305714, 0.033283)   \n",
       "Latin America & Caribbean                 (0.0, 1.0)   \n",
       "Middle East & North Africa      (0.515873, 0.002319)   \n",
       "North America                   (0.638095, 0.124229)   \n",
       "South Asia                      (0.214286, 0.865937)   \n",
       "Sub-Saharan Africa              (0.325466, 0.021868)   \n",
       "\n",
       "                           Middle East & North Africa         North America  \\\n",
       "East Asia & Pacific              (0.496169, 0.004787)  (0.597701, 0.190323)   \n",
       "Europe & Central Asia            (0.244444, 0.344964)  (0.566667, 0.224793)   \n",
       "Latin America & Caribbean        (0.515873, 0.002319)  (0.638095, 0.124229)   \n",
       "Middle East & North Africa                 (0.0, 1.0)  (0.666667, 0.144361)   \n",
       "North America                    (0.666667, 0.144361)            (0.0, 1.0)   \n",
       "South Asia                       (0.444444, 0.171065)  (0.541667, 0.424242)   \n",
       "Sub-Saharan Africa                    (0.792271, 0.0)  (0.666667, 0.091945)   \n",
       "\n",
       "                                      South Asia    Sub-Saharan Africa  \n",
       "East Asia & Pacific         (0.344828, 0.358175)  (0.370315, 0.010559)  \n",
       "Europe & Central Asia           (0.26, 0.646914)       (0.573043, 0.0)  \n",
       "Latin America & Caribbean   (0.214286, 0.865937)  (0.325466, 0.021868)  \n",
       "Middle East & North Africa  (0.444444, 0.171065)       (0.792271, 0.0)  \n",
       "North America               (0.541667, 0.424242)  (0.666667, 0.091945)  \n",
       "South Asia                            (0.0, 1.0)   (0.48913, 0.051218)  \n",
       "Sub-Saharan Africa           (0.48913, 0.051218)            (0.0, 1.0)  "
      ]
     },
     "execution_count": 201,
     "metadata": {},
     "output_type": "execute_result"
    }
   ],
   "source": [
    "### Code Starts Here\n",
    "from scipy.stats import ks_2samp, kstest\n",
    "'''\n",
    "Groups data by region, then Filters to get just GDP and lists it together.\n",
    "From there, I made a KS2 table comparing each region against one another.\n",
    "'''\n",
    "\n",
    "Region_GDP = Country_GDP.groupby('Region')['GDP'].apply(list)\n",
    "REGIONS = sorted(pd.unique(Country_GDP['Region']))\n",
    "\n",
    "ks2_table = pd.DataFrame(columns = REGIONS, index = REGIONS)\n",
    "for c1 in REGIONS:\n",
    "    ks = []\n",
    "    for c2 in REGIONS:\n",
    "        r1, r2 = Region_GDP[c1], Region_GDP[c2]\n",
    "        ks.append(tuple(map(lambda x: round(x, 6), ks_2samp(r1, r2))))\n",
    "    ks2_table.loc[c1] = ks\n",
    "        \n",
    "ks2_table"
   ]
  },
  {
   "cell_type": "markdown",
   "metadata": {},
   "source": [
    "3-d: Use `groupby()` and `agg()` to find the average and standard deviation of GDP by `income group`. [5 pts]"
   ]
  },
  {
   "cell_type": "code",
   "execution_count": 202,
   "metadata": {},
   "outputs": [
    {
     "data": {
      "text/html": [
       "<div>\n",
       "<style scoped>\n",
       "    .dataframe tbody tr th:only-of-type {\n",
       "        vertical-align: middle;\n",
       "    }\n",
       "\n",
       "    .dataframe tbody tr th {\n",
       "        vertical-align: top;\n",
       "    }\n",
       "\n",
       "    .dataframe thead th {\n",
       "        text-align: right;\n",
       "    }\n",
       "</style>\n",
       "<table border=\"1\" class=\"dataframe\">\n",
       "  <thead>\n",
       "    <tr style=\"text-align: right;\">\n",
       "      <th></th>\n",
       "      <th>mean</th>\n",
       "      <th>std</th>\n",
       "    </tr>\n",
       "    <tr>\n",
       "      <th>Income Group</th>\n",
       "      <th></th>\n",
       "      <th></th>\n",
       "    </tr>\n",
       "  </thead>\n",
       "  <tbody>\n",
       "    <tr>\n",
       "      <th>High income: OECD</th>\n",
       "      <td>1.483917e+06</td>\n",
       "      <td>3.070464e+06</td>\n",
       "    </tr>\n",
       "    <tr>\n",
       "      <th>High income: nonOECD</th>\n",
       "      <td>1.043498e+05</td>\n",
       "      <td>1.653344e+05</td>\n",
       "    </tr>\n",
       "    <tr>\n",
       "      <th>Low income</th>\n",
       "      <td>1.441078e+04</td>\n",
       "      <td>2.047309e+04</td>\n",
       "    </tr>\n",
       "    <tr>\n",
       "      <th>Lower middle income</th>\n",
       "      <td>2.566635e+05</td>\n",
       "      <td>1.139620e+06</td>\n",
       "    </tr>\n",
       "    <tr>\n",
       "      <th>Upper middle income</th>\n",
       "      <td>2.318478e+05</td>\n",
       "      <td>4.768720e+05</td>\n",
       "    </tr>\n",
       "  </tbody>\n",
       "</table>\n",
       "</div>"
      ],
      "text/plain": [
       "                              mean           std\n",
       "Income Group                                    \n",
       "High income: OECD     1.483917e+06  3.070464e+06\n",
       "High income: nonOECD  1.043498e+05  1.653344e+05\n",
       "Low income            1.441078e+04  2.047309e+04\n",
       "Lower middle income   2.566635e+05  1.139620e+06\n",
       "Upper middle income   2.318478e+05  4.768720e+05"
      ]
     },
     "execution_count": 202,
     "metadata": {},
     "output_type": "execute_result"
    }
   ],
   "source": [
    "### Code Starts Here\n",
    "income_groups = Country_GDP.groupby(\"Income Group\")['GDP']\n",
    "income_groups.agg(['mean', \"std\"])"
   ]
  },
  {
   "cell_type": "markdown",
   "metadata": {},
   "source": [
    "### Problem 4 - Clustering Using KMeans [20 pts]\n",
    "\n",
    "The tasks in this problem are:\n",
    "- impletemenation of KMeans\n",
    "- confirmation of pre-determined K value\n",
    "\n",
    "Here, we have a given data set `HW1_Q1_0.csv` containing coordinates of x and y. \n",
    "\n",
    "4-a. Load the data and add feature name as X and Y for the first and second columns, respectively. (2 pts)"
   ]
  },
  {
   "cell_type": "code",
   "execution_count": 2,
   "metadata": {},
   "outputs": [],
   "source": [
    "import pandas as pd"
   ]
  },
  {
   "cell_type": "code",
   "execution_count": 3,
   "metadata": {},
   "outputs": [
    {
     "data": {
      "text/html": [
       "<div>\n",
       "<style scoped>\n",
       "    .dataframe tbody tr th:only-of-type {\n",
       "        vertical-align: middle;\n",
       "    }\n",
       "\n",
       "    .dataframe tbody tr th {\n",
       "        vertical-align: top;\n",
       "    }\n",
       "\n",
       "    .dataframe thead th {\n",
       "        text-align: right;\n",
       "    }\n",
       "</style>\n",
       "<table border=\"1\" class=\"dataframe\">\n",
       "  <thead>\n",
       "    <tr style=\"text-align: right;\">\n",
       "      <th></th>\n",
       "      <th>X</th>\n",
       "      <th>Y</th>\n",
       "    </tr>\n",
       "  </thead>\n",
       "  <tbody>\n",
       "    <tr>\n",
       "      <th>0</th>\n",
       "      <td>-0.452720</td>\n",
       "      <td>-0.018213</td>\n",
       "    </tr>\n",
       "    <tr>\n",
       "      <th>1</th>\n",
       "      <td>-0.169793</td>\n",
       "      <td>1.073745</td>\n",
       "    </tr>\n",
       "    <tr>\n",
       "      <th>2</th>\n",
       "      <td>1.128729</td>\n",
       "      <td>-2.395042</td>\n",
       "    </tr>\n",
       "    <tr>\n",
       "      <th>3</th>\n",
       "      <td>0.122506</td>\n",
       "      <td>-0.973069</td>\n",
       "    </tr>\n",
       "    <tr>\n",
       "      <th>4</th>\n",
       "      <td>-0.409200</td>\n",
       "      <td>0.129649</td>\n",
       "    </tr>\n",
       "    <tr>\n",
       "      <th>...</th>\n",
       "      <td>...</td>\n",
       "      <td>...</td>\n",
       "    </tr>\n",
       "    <tr>\n",
       "      <th>820</th>\n",
       "      <td>0.944727</td>\n",
       "      <td>0.365376</td>\n",
       "    </tr>\n",
       "    <tr>\n",
       "      <th>821</th>\n",
       "      <td>-0.161625</td>\n",
       "      <td>-0.358271</td>\n",
       "    </tr>\n",
       "    <tr>\n",
       "      <th>822</th>\n",
       "      <td>0.147787</td>\n",
       "      <td>0.905077</td>\n",
       "    </tr>\n",
       "    <tr>\n",
       "      <th>823</th>\n",
       "      <td>-0.159311</td>\n",
       "      <td>0.425800</td>\n",
       "    </tr>\n",
       "    <tr>\n",
       "      <th>824</th>\n",
       "      <td>-0.090622</td>\n",
       "      <td>0.394709</td>\n",
       "    </tr>\n",
       "  </tbody>\n",
       "</table>\n",
       "<p>825 rows × 2 columns</p>\n",
       "</div>"
      ],
      "text/plain": [
       "            X         Y\n",
       "0   -0.452720 -0.018213\n",
       "1   -0.169793  1.073745\n",
       "2    1.128729 -2.395042\n",
       "3    0.122506 -0.973069\n",
       "4   -0.409200  0.129649\n",
       "..        ...       ...\n",
       "820  0.944727  0.365376\n",
       "821 -0.161625 -0.358271\n",
       "822  0.147787  0.905077\n",
       "823 -0.159311  0.425800\n",
       "824 -0.090622  0.394709\n",
       "\n",
       "[825 rows x 2 columns]"
      ]
     },
     "execution_count": 3,
     "metadata": {},
     "output_type": "execute_result"
    }
   ],
   "source": [
    "### Code starts here\n",
    "df = pd.read_csv('HW1_Q1_0.csv', header= None, encoding='ISO-8859-1')\n",
    "df.columns = ['X', 'Y']\n",
    "df"
   ]
  },
  {
   "cell_type": "markdown",
   "metadata": {},
   "source": [
    "4-b. Using `KMeans` from `sklearn.cluster`, determine the appropriate $K$ value for `HW2_Q1_0.csv` and report it. Explain why your pre-determined $K$ value is appropriate. The function `plot_inertia` is provided to you. (4 pts)"
   ]
  },
  {
   "cell_type": "code",
   "execution_count": 4,
   "metadata": {},
   "outputs": [],
   "source": [
    "from sklearn.cluster import KMeans\n",
    "from matplotlib import pyplot as plt\n",
    "kmeans = KMeans()\n",
    "\n",
    "def plot_inertia(km, X, n_cluster_range):\n",
    "    n_cluster_range = range(1,n_cluster_range)\n",
    "    inertias = []\n",
    "    for i in n_cluster_range:\n",
    "        km.set_params(n_clusters=i)\n",
    "        km.fit(X)\n",
    "        inertias.append(km.inertia_)\n",
    "    plt.plot(n_cluster_range, inertias, marker='o')\n",
    "    plt.title('Elbow method')\n",
    "    plt.xlabel('Number of clusters')\n",
    "    plt.ylabel('Inertia')\n",
    "    plt.show()\n",
    "    \n",
    "    tabular_result = pd.DataFrame(inertias, \n",
    "                                  index = [\"n = {}\".format(i) for i in range(1, len(inertias)+1)], \n",
    "                                  columns=['Inertia'])\n",
    "    \n",
    "    return tabular_result"
   ]
  },
  {
   "cell_type": "code",
   "execution_count": 5,
   "metadata": {},
   "outputs": [
    {
     "data": {
      "image/png": "[encoded data removed]",
      "text/plain": [
       "<Figure size 432x288 with 1 Axes>"
      ]
     },
     "metadata": {
      "needs_background": "light"
     },
     "output_type": "display_data"
    },
    {
     "data": {
      "text/html": [
       "<div>\n",
       "<style scoped>\n",
       "    .dataframe tbody tr th:only-of-type {\n",
       "        vertical-align: middle;\n",
       "    }\n",
       "\n",
       "    .dataframe tbody tr th {\n",
       "        vertical-align: top;\n",
       "    }\n",
       "\n",
       "    .dataframe thead th {\n",
       "        text-align: right;\n",
       "    }\n",
       "</style>\n",
       "<table border=\"1\" class=\"dataframe\">\n",
       "  <thead>\n",
       "    <tr style=\"text-align: right;\">\n",
       "      <th></th>\n",
       "      <th>Inertia</th>\n",
       "    </tr>\n",
       "  </thead>\n",
       "  <tbody>\n",
       "    <tr>\n",
       "      <th>n = 1</th>\n",
       "      <td>1462.008530</td>\n",
       "    </tr>\n",
       "    <tr>\n",
       "      <th>n = 2</th>\n",
       "      <td>555.425223</td>\n",
       "    </tr>\n",
       "    <tr>\n",
       "      <th>n = 3</th>\n",
       "      <td>415.857905</td>\n",
       "    </tr>\n",
       "    <tr>\n",
       "      <th>n = 4</th>\n",
       "      <td>322.711913</td>\n",
       "    </tr>\n",
       "    <tr>\n",
       "      <th>n = 5</th>\n",
       "      <td>230.500209</td>\n",
       "    </tr>\n",
       "    <tr>\n",
       "      <th>n = 6</th>\n",
       "      <td>193.740859</td>\n",
       "    </tr>\n",
       "    <tr>\n",
       "      <th>n = 7</th>\n",
       "      <td>160.266558</td>\n",
       "    </tr>\n",
       "    <tr>\n",
       "      <th>n = 8</th>\n",
       "      <td>136.988969</td>\n",
       "    </tr>\n",
       "    <tr>\n",
       "      <th>n = 9</th>\n",
       "      <td>119.506464</td>\n",
       "    </tr>\n",
       "    <tr>\n",
       "      <th>n = 10</th>\n",
       "      <td>105.416047</td>\n",
       "    </tr>\n",
       "  </tbody>\n",
       "</table>\n",
       "</div>"
      ],
      "text/plain": [
       "            Inertia\n",
       "n = 1   1462.008530\n",
       "n = 2    555.425223\n",
       "n = 3    415.857905\n",
       "n = 4    322.711913\n",
       "n = 5    230.500209\n",
       "n = 6    193.740859\n",
       "n = 7    160.266558\n",
       "n = 8    136.988969\n",
       "n = 9    119.506464\n",
       "n = 10   105.416047"
      ]
     },
     "execution_count": 5,
     "metadata": {},
     "output_type": "execute_result"
    }
   ],
   "source": [
    "### Code starts here\n",
    "plot_inertia(kmeans, df, 11)"
   ]
  },
  {
   "cell_type": "markdown",
   "metadata": {},
   "source": [
    "I would say my estimate is a K-value of 5, as it is the last time we see a significant change in slope."
   ]
  },
  {
   "cell_type": "markdown",
   "metadata": {},
   "source": [
    "4-c. Make a scatter plot of y vs. x. Do you think your pre-determined $K$ value is acceptable. Explain why. If you do not think your pre-determined $K$ value is not correct, explain what a new pre-determined $K$ value must be. (4 pts) "
   ]
  },
  {
   "cell_type": "code",
   "execution_count": 6,
   "metadata": {
    "scrolled": true
   },
   "outputs": [
    {
     "data": {
      "text/plain": [
       "<AxesSubplot:xlabel='X', ylabel='Y'>"
      ]
     },
     "execution_count": 6,
     "metadata": {},
     "output_type": "execute_result"
    },
    {
     "data": {
      "image/png": "[encoded data removed]",
      "text/plain": [
       "<Figure size 432x288 with 1 Axes>"
      ]
     },
     "metadata": {
      "needs_background": "light"
     },
     "output_type": "display_data"
    }
   ],
   "source": [
    "### Code starts here \n",
    "df.plot.scatter(x = 'X', y = 'Y')"
   ]
  },
  {
   "cell_type": "markdown",
   "metadata": {},
   "source": [
    "After further graphing, I think my prediction of K = 5 is sustainable, as there are 5 pretty distinct groups being shown in the visualization."
   ]
  },
  {
   "cell_type": "markdown",
   "metadata": {},
   "source": [
    "4-d. Impletement `MY_KMean` that does the KMeans clustering. When you do the implementation, you may use linear algebra built-in functions from `Numpy`. Do not use `KMeans` directly. (10 pts)"
   ]
  },
  {
   "cell_type": "code",
   "execution_count": 7,
   "metadata": {},
   "outputs": [],
   "source": [
    "### Code starts here\n",
    "from sklearn.metrics import pairwise_distances\n",
    "def MY_KMean(df, k, n, print_itr = False):\n",
    "    \n",
    "    rand_index = np.random.randint(0, len(df),k)\n",
    "    centroids = df.iloc[rand_index]\n",
    "    \n",
    "    # Original attempt with my own math and code, very very slow.\n",
    "    '''\n",
    "    def euclidean_dist(df, centroids):\n",
    "        distances = []\n",
    "        for i in range(len(df)):\n",
    "            pt_dist = []\n",
    "            for j in range(len(centroids)):\n",
    "                pt_dist.append(((df.iloc[i]['X'] - centroids.iloc[j]['X'])**2 + ((df.iloc[i]['Y'] - centroids.iloc[j]['Y'])**2))**0.5)\n",
    "            distances.append(pt_dist)\n",
    "        return np.array(distances), np.array([np.argmin(i) for i in distances])\n",
    "    \n",
    "    distances, mins = euclidean_dist(df, centroids)\n",
    "    '''\n",
    "    distances = pairwise_distances(df, centroids, metric = 'euclidean')\n",
    "    mins = np.array([np.argmin(L) for L in distances])\n",
    "                    \n",
    "    for i in range(n):\n",
    "        centroids = []\n",
    "        for rand_index in range(k):\n",
    "            t_centroid = df[mins == rand_index].mean(axis = 0)\n",
    "            centroids.append(t_centroid)\n",
    "        \n",
    "        if print_itr == True:\n",
    "            print(i)\n",
    "         \n",
    "        centroids = np.vstack(centroids)\n",
    "        '''\n",
    "        distances, mins = euclidean_dist(df, pd.DataFrame(centroids, columns = ['X', 'Y']))\n",
    "        '''\n",
    "    \n",
    "        distances = pairwise_distances(df, centroids, metric = 'euclidean')\n",
    "        mins = np.array([np.argmin(L) for L in distances])\n",
    "    \n",
    "    return mins\n",
    "\n",
    "# MY_KMean(df, 5, 10)"
   ]
  },
  {
   "cell_type": "markdown",
   "metadata": {},
   "source": [
    "## Testing"
   ]
  },
  {
   "cell_type": "markdown",
   "metadata": {},
   "source": [
    "### Expectation\n",
    "![Expectation](expectation.jpg)"
   ]
  },
  {
   "cell_type": "markdown",
   "metadata": {},
   "source": [
    "### Reality"
   ]
  },
  {
   "cell_type": "code",
   "execution_count": 16,
   "metadata": {},
   "outputs": [
    {
     "data": {
      "image/png": "[encoded data removed]",
      "text/plain": [
       "<Figure size 432x288 with 1 Axes>"
      ]
     },
     "metadata": {
      "needs_background": "light"
     },
     "output_type": "display_data"
    }
   ],
   "source": [
    "label = MY_KMean(df, 16, 1000)\n",
    "labels = np.unique(label)\n",
    "df_np = df.values\n",
    "for i in labels:\n",
    "    plt.scatter(df_np[label == i, 0], df_np[label == i, 1], label = i)\n",
    "plt.show()"
   ]
  },
  {
   "cell_type": "markdown",
   "metadata": {},
   "source": [
    "The expectation vs reality are vastly different because of the way that KMeans works, as we have it based off of clusters and centroids.\n",
    "\n",
    "It is impossible to get the inner and outter ring separated from each other in an unsupervised learning method like this."
   ]
  },
  {
   "cell_type": "markdown",
   "metadata": {},
   "source": [
    "### Problem 5 - Principal Component Analysis [20 pts]\n",
    "\n",
    "5-a. Run the following codes. "
   ]
  },
  {
   "cell_type": "code",
   "execution_count": 210,
   "metadata": {},
   "outputs": [],
   "source": [
    "import numpy as np\n",
    "\n",
    "np.random.seed(2342)\n",
    "mu_vec1 = np.array([0,0,0])\n",
    "cov_mat1 = np.array([[1,0,0],[0,1,0],[0,0,1]])\n",
    "class1_sample = np.random.multivariate_normal(mu_vec1, cov_mat1, 30).T\n",
    "assert class1_sample.shape == (3,30), \"The matrix has not the dimensions 3x30\"\n",
    "\n",
    "mu_vec2 = np.array([1,1,1])\n",
    "cov_mat2 = np.array([[1,0,0],[0,1,0],[0,0,1]])\n",
    "class2_sample = np.random.multivariate_normal(mu_vec2, cov_mat2, 30).T\n",
    "assert class2_sample.shape == (3,30), \"The matrix has not the dimensions 3x30\""
   ]
  },
  {
   "cell_type": "code",
   "execution_count": 211,
   "metadata": {},
   "outputs": [
    {
     "data": {
      "image/png": "[encoded data removed]",
      "text/plain": [
       "<Figure size 576x576 with 1 Axes>"
      ]
     },
     "metadata": {
      "needs_background": "light"
     },
     "output_type": "display_data"
    }
   ],
   "source": [
    "from matplotlib import pyplot as plt\n",
    "from mpl_toolkits.mplot3d import Axes3D\n",
    "from mpl_toolkits.mplot3d import proj3d\n",
    "\n",
    "fig = plt.figure(figsize=(8,8))\n",
    "ax = fig.add_subplot(111, projection='3d')\n",
    "plt.rcParams['legend.fontsize'] = 10   \n",
    "ax.plot(class1_sample[0,:], class1_sample[1,:], class1_sample[2,:], 'o', markersize=8, color='blue', alpha=0.5, label='class1')\n",
    "ax.plot(class2_sample[0,:], class2_sample[1,:], class2_sample[2,:], '^', markersize=8, alpha=0.5, color='red', label='class2')\n",
    "\n",
    "plt.title('Samples for class 1 and class 2')\n",
    "ax.legend(loc='upper right')\n",
    "\n",
    "plt.show()"
   ]
  },
  {
   "cell_type": "markdown",
   "metadata": {},
   "source": [
    "5-b. PCA Implementation. Here, the descriiption of each step and part of codes. You have to fill out the rest process. [15 pts]\n",
    "\n",
    "1. Take the dataset w/o classes. \n",
    "2. Compute the d-dimentional mean vector.\n",
    "3. Compute the scatter matrix as following. \n",
    "    \n",
    "$$\\textbf{S}=\\sum_{k=1}^N (\\textbf{x}_k-\\bar{\\textbf{x}})(\\textbf{x}_k-\\bar{\\textbf{x}})^T$$ \n",
    "where $\\bar{\\textbf{x}}$ is the mean vector. Then compute the covariance matrix using `np.cov()` function.\n",
    "    \n",
    "4. Compute eigenvectors and corresponding eigenvalues using np.linalg.eig(). \n",
    "5. Check the eigenvector and eigenvalue calculation. This code is provided as well as the visualization of eigenvectors. \n",
    "6. Sort the eigenvectors by descreasing eigenvalues. The idea is that since the eigenvectors will form the axes of new feature subspace, we want to drop for eigenvectors with the lowest eigenvalues that bear the least information about the distribution of the data. \n",
    "7. Choose $k$ eigenvectors with the largest eigenvalues. We are going to reduce a 3-D feature space to a 2-D feature subspace. To do so, we combine the two eigenvectors with the highest eigenvalues to construct our $d\\times k$-D eigenvector matrix $\\bf{W}$.\n",
    "8. Transform the samples onto the new subspace. The new subspace equation is \n",
    "\n",
    "$${\\bf y}={\\bf W}^T\\times {\\bf x}$$"
   ]
  },
  {
   "cell_type": "code",
   "execution_count": 212,
   "metadata": {},
   "outputs": [
    {
     "data": {
      "text/plain": [
       "array([0.47343911, 0.52653958, 0.73360656])"
      ]
     },
     "execution_count": 212,
     "metadata": {},
     "output_type": "execute_result"
    }
   ],
   "source": [
    "### Code starts here\n",
    "# 5.1\n",
    "'''\n",
    "Take the dataset w/o classes. \n",
    "'''\n",
    "data = np.concatenate((class1_sample, class2_sample), axis =1)\n",
    "\n",
    "# 5.2\n",
    "'''\n",
    "Compute the d-dimentional mean vector.\n",
    "'''\n",
    "mean_vec = data.mean(axis = 1)\n",
    "mean_vec"
   ]
  },
  {
   "cell_type": "code",
   "execution_count": 213,
   "metadata": {},
   "outputs": [
    {
     "data": {
      "text/plain": [
       "array([[203.23505008,  51.09910165,  27.48616931],\n",
       "       [ 51.09910165, 221.92648831,  -1.36279063],\n",
       "       [ 27.48616931,  -1.36279063, 227.88632359]])"
      ]
     },
     "execution_count": 213,
     "metadata": {},
     "output_type": "execute_result"
    }
   ],
   "source": [
    "# 5.3\n",
    "'''\n",
    "Compute the scatter matrix as following.\n",
    "        𝐒=∑𝑘=1𝑁(𝐱𝑘−𝐱¯)(𝐱𝑘−𝐱¯)𝑇\n",
    "where 𝐱¯ is the mean vector. Then compute the covariance matrix using np.cov() function.\n",
    "'''\n",
    "\n",
    "# s = [np.cov(np.matrix.transpose(np.array(data_T[k])-mean_vec), np.array(data_T[k])-mean_vec) for k in range(len(data_T))]\n",
    "\n",
    "scatter_m = np.zeros((3,3))\n",
    "for i in range(data.shape[1]):\n",
    "    data_shape = data[:, i].reshape(3, 1)\n",
    "    scatter_m = scatter_m + np.matmul((data_shape - mean_vec), (mat_transpose(data_shape - mean_vec)))\n",
    "    \n",
    "scatter_m"
   ]
  },
  {
   "cell_type": "code",
   "execution_count": 214,
   "metadata": {},
   "outputs": [
    {
     "data": {
      "text/plain": [
       "array([[ 1.12432002,  0.27043376,  0.15901633],\n",
       "       [ 0.27043376,  1.23833166, -0.01238244],\n",
       "       [ 0.15901633, -0.01238244,  1.25001409]])"
      ]
     },
     "execution_count": 214,
     "metadata": {},
     "output_type": "execute_result"
    }
   ],
   "source": [
    "# 5.3\n",
    "covariance = np.cov([data[i] for i in range(len(data))])\n",
    "covariance"
   ]
  },
  {
   "cell_type": "code",
   "execution_count": 215,
   "metadata": {},
   "outputs": [
    {
     "name": "stdout",
     "output_type": "stream",
     "text": [
      "[153.87748592 271.50715436 227.66322171]\n",
      "[[-0.76160176  0.64729672 -0.0311402 ]\n",
      " [ 0.57777676  0.65647337 -0.48499147]\n",
      " [ 0.29349067  0.38736244  0.87396428]]\n"
     ]
    }
   ],
   "source": [
    "# 5.4\n",
    "'''\n",
    "Compute eigenvectors and corresponding eigenvalues using np.linalg.eig(). \n",
    "'''\n",
    "e_val, e_vec = np.linalg.eig(scatter_m)\n",
    "print(e_val)\n",
    "print(e_vec)"
   ]
  },
  {
   "cell_type": "code",
   "execution_count": 216,
   "metadata": {},
   "outputs": [
    {
     "name": "stderr",
     "output_type": "stream",
     "text": [
      "<ipython-input-216-1eb7d906d612>:11: MatplotlibDeprecationWarning: \n",
      "The M attribute was deprecated in Matplotlib 3.4 and will be removed two minor releases later. Use self.axes.M instead.\n",
      "  xs, ys, zs = proj3d.proj_transform(xs3d, ys3d, zs3d, renderer.M)\n"
     ]
    },
    {
     "data": {
      "image/png": "[encoded data removed]",
      "text/plain": [
       "<Figure size 504x504 with 1 Axes>"
      ]
     },
     "metadata": {
      "needs_background": "light"
     },
     "output_type": "display_data"
    }
   ],
   "source": [
    "# 5.5\n",
    "'''\n",
    "Check the eigenvector and eigenvalue calculation. \n",
    "This code is provided as well as the visualization of eigenvectors.\n",
    "'''\n",
    "\n",
    "from matplotlib.patches import FancyArrowPatch\n",
    "class Arrow3D(FancyArrowPatch):\n",
    "    def __init__(self, xs, ys, zs, *args, **kwargs):\n",
    "        FancyArrowPatch.__init__(self, (0,0), (0,0), *args, **kwargs)\n",
    "        self._verts3d = xs, ys, zs\n",
    "\n",
    "    def draw(self, renderer):\n",
    "        xs3d, ys3d, zs3d = self._verts3d\n",
    "        xs, ys, zs = proj3d.proj_transform(xs3d, ys3d, zs3d, renderer.M)\n",
    "        self.set_positions((xs[0],ys[0]),(xs[1],ys[1]))\n",
    "        FancyArrowPatch.draw(self, renderer)\n",
    "\n",
    "fig = plt.figure(figsize=(7,7))\n",
    "ax = fig.add_subplot(111, projection='3d')\n",
    "\n",
    "ax.plot(data[0,:], data[1,:], data[2,:], 'o', markersize=8, color='green', alpha=0.2)\n",
    "ax.plot([mean_vec[0]], [mean_vec[1]], [mean_vec[2]], 'o', markersize=10, color='red', alpha=0.5)\n",
    "for v in e_vec.T:\n",
    "    a = Arrow3D([mean_vec[0], v[0]], [mean_vec[1], v[1]], [mean_vec[2], v[2]], mutation_scale=20, lw=3, arrowstyle=\"-|>\", color=\"r\")\n",
    "    ax.add_artist(a)\n",
    "ax.set_xlabel('x_values')\n",
    "ax.set_ylabel('y_values')\n",
    "ax.set_zlabel('z_values')\n",
    "\n",
    "plt.title('Eigenvectors')\n",
    "\n",
    "plt.show()"
   ]
  },
  {
   "cell_type": "code",
   "execution_count": 221,
   "metadata": {},
   "outputs": [],
   "source": [
    "# 5.5\n",
    "'''Check the eigenvector and eigenvalue calculation. This code is provided as well as the visualization of \n",
    "eigenvectors.'''\n",
    "\n",
    "for i in range(e_val.shape[0]):\n",
    "    e_val_col = e_vec[:, i].reshape(1, 3).T\n",
    "    assert (np.round(scatter_m.dot(e_val_col), decimals = 6) == np.round(e_vec[i]*e_val_col, decimals = 6)).all"
   ]
  },
  {
   "cell_type": "code",
   "execution_count": 222,
   "metadata": {},
   "outputs": [
    {
     "data": {
      "text/plain": [
       "[(271.50715435912673, array([0.64729672, 0.65647337, 0.38736244])),\n",
       " (227.66322170532666, array([-0.0311402 , -0.48499147,  0.87396428])),\n",
       " (153.87748592265098, array([-0.76160176,  0.57777676,  0.29349067]))]"
      ]
     },
     "execution_count": 222,
     "metadata": {},
     "output_type": "execute_result"
    }
   ],
   "source": [
    "# 5.6\n",
    "'''Sort the eigenvectors by descreasing eigenvalues. The idea is that since the eigenvectors will form the axes \n",
    "of new feature subspace, we want to drop for eigenvectors with the lowest eigenvalues that bear the least information \n",
    "about the distribution of the data.'''\n",
    "\n",
    "pairs = []\n",
    "for i in range(e_val.shape[0]):\n",
    "    pairs.append((e_val[i], e_vec[:, i]))\n",
    "pairs.sort(key=lambda n: n[0], reverse=True)\n",
    "pairs"
   ]
  },
  {
   "cell_type": "code",
   "execution_count": 223,
   "metadata": {},
   "outputs": [
    {
     "data": {
      "text/plain": [
       "array([[ 0.64729672, -0.0311402 ],\n",
       "       [ 0.65647337, -0.48499147],\n",
       "       [ 0.38736244,  0.87396428]])"
      ]
     },
     "execution_count": 223,
     "metadata": {},
     "output_type": "execute_result"
    }
   ],
   "source": [
    "# 5.7\n",
    "'''\n",
    "Choose 𝑘 eigenvectors with the largest eigenvalues. We are going to reduce a 3-D feature space to \n",
    "a 2-D feature subspace. To do so, we combine the two eigenvectors with the highest eigenvalues to \n",
    "construct our 𝑑×𝑘-D eigenvector matrix 𝐖.\n",
    "'''\n",
    "\n",
    "two_d_mat = np.array([[pairs[0][1][i], pairs[1][1][i]] for i in range(len(pairs[0][1]))])\n",
    "two_d_mat"
   ]
  },
  {
   "cell_type": "code",
   "execution_count": 224,
   "metadata": {},
   "outputs": [],
   "source": [
    "# 5.8 \n",
    "'''\n",
    "Transform the samples onto the new subspace. The new subspace equation is\n",
    "𝐲=𝐖𝑇×𝐱\n",
    "'''\n",
    "subspace = two_d_mat.T.dot(data)"
   ]
  },
  {
   "cell_type": "markdown",
   "metadata": {},
   "source": [
    "5-c. Using `PCA` from sklearn, make a visualization comparison with the result in 3-b and evaluation your impletemented PCA. [5 pts]"
   ]
  },
  {
   "cell_type": "code",
   "execution_count": 225,
   "metadata": {},
   "outputs": [],
   "source": [
    "from sklearn.decomposition import PCA"
   ]
  },
  {
   "cell_type": "code",
   "execution_count": 226,
   "metadata": {},
   "outputs": [
    {
     "ename": "TypeError",
     "evalue": "fit_transform() missing 1 required positional argument: 'X'",
     "output_type": "error",
     "traceback": [
      "\u001b[1;31m---------------------------------------------------------------------------\u001b[0m",
      "\u001b[1;31mTypeError\u001b[0m                                 Traceback (most recent call last)",
      "\u001b[1;32m<ipython-input-226-97c2cd0ee033>\u001b[0m in \u001b[0;36m<module>\u001b[1;34m\u001b[0m\n\u001b[0;32m      2\u001b[0m \u001b[1;33m\u001b[0m\u001b[0m\n\u001b[0;32m      3\u001b[0m \u001b[0mpca\u001b[0m \u001b[1;33m=\u001b[0m \u001b[0mPCA\u001b[0m\u001b[1;33m(\u001b[0m\u001b[0mn_components\u001b[0m\u001b[1;33m=\u001b[0m\u001b[1;36m2\u001b[0m\u001b[1;33m)\u001b[0m\u001b[1;33m\u001b[0m\u001b[1;33m\u001b[0m\u001b[0m\n\u001b[1;32m----> 4\u001b[1;33m \u001b[0mtrans\u001b[0m \u001b[1;33m=\u001b[0m \u001b[0mPCA\u001b[0m\u001b[1;33m.\u001b[0m\u001b[0mfit_transform\u001b[0m\u001b[1;33m(\u001b[0m\u001b[0mdata\u001b[0m\u001b[1;33m.\u001b[0m\u001b[0mT\u001b[0m\u001b[1;33m)\u001b[0m\u001b[1;33m\u001b[0m\u001b[1;33m\u001b[0m\u001b[0m\n\u001b[0m",
      "\u001b[1;31mTypeError\u001b[0m: fit_transform() missing 1 required positional argument: 'X'"
     ]
    }
   ],
   "source": [
    "### Code starts here\n",
    "\n",
    "pca = PCA(n_components=2)\n",
    "trans = PCA.fit_transform(data.T)"
   ]
  },
  {
   "cell_type": "code",
   "execution_count": null,
   "metadata": {},
   "outputs": [],
   "source": []
  }
 ],
 "metadata": {
  "kernelspec": {
   "display_name": "Python 3",
   "language": "python",
   "name": "python3"
  },
  "language_info": {
   "codemirror_mode": {
    "name": "ipython",
    "version": 3
   },
   "file_extension": ".py",
   "mimetype": "text/x-python",
   "name": "python",
   "nbconvert_exporter": "python",
   "pygments_lexer": "ipython3",
   "version": "3.8.5"
  }
 },
 "nbformat": 4,
 "nbformat_minor": 4
}
