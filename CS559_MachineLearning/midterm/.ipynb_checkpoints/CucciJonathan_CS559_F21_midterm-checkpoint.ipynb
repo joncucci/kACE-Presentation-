{
 "cells": [
  {
   "cell_type": "markdown",
   "id": "9d2c68e2",
   "metadata": {},
   "source": [
    "**<center>CS559 Fall 2021 Midterm</center>**\n",
    "**<center>Due: in 90 minutes <center>**\n",
    "\n",
    "The second part of the midterm contains the computations to solve machine learning problems. It is an open-notes exam and students can only use lecture notes and demonstration files provided from the class. \n",
    "Students are not allowed to use any other modules than $\\color{red}{\\textbf{Numpy, Pandas, and Matplot}}$. \n",
    "\n",
    "Although there are no plotting questions, students are welcome to display plots to confirm their answers. \n",
    "\n",
    "Students must submit the exam **90 minutes from the start**. \n",
    "\n",
    "Good luck!"
   ]
  },
  {
   "cell_type": "code",
   "execution_count": 1,
   "id": "69f26fdc",
   "metadata": {},
   "outputs": [],
   "source": [
    "import numpy as np\n",
    "import pandas as pd\n",
    "import matplotlib.pyplot as plt"
   ]
  },
  {
   "cell_type": "markdown",
   "id": "b3dedc2c",
   "metadata": {},
   "source": [
    "## Question 1 [20 pts]\n",
    "\n",
    "This question is a gradient descent problem and students are required to find a weight vector of the actual quadratic function of the provided data, `gradient_question.csv`. The dataset has two columns, x and y, where y is the true target variable. "
   ]
  },
  {
   "cell_type": "markdown",
   "id": "086d6ffe",
   "metadata": {},
   "source": [
    "### 1-1.\n",
    "Write a short function called `my_gradient()` that optimizes the weight vector using the squared error function and returns the weight vector when the acceptance of error is below 0.05 and the learning rate $\\eta$ is 0.001. [12 pts] "
   ]
  },
  {
   "cell_type": "code",
   "execution_count": 2,
   "id": "b807c3ea",
   "metadata": {},
   "outputs": [],
   "source": [
    "def mean_squared_error(y_true, y_pred):\n",
    "    output = 0\n",
    "    n = len(y_pred)\n",
    "    for i in range(0,n):\n",
    "        output += (y_true[i] - y_pred[i])**2\n",
    "    return output / n"
   ]
  },
  {
   "cell_type": "code",
   "execution_count": 24,
   "id": "fc70c02a",
   "metadata": {},
   "outputs": [],
   "source": [
    "def my_gradient(X, y, lr = 0.001, it = 10):\n",
    "    m,b = .4, .4\n",
    "    mse = []\n",
    "    n = len(y)\n",
    "    error = 1\n",
    "    while error > 0.05:\n",
    "        \n",
    "        equation = y - (m*X+b)\n",
    "        m -= lr * (X.dot(equation).sum()/n)\n",
    "        b -= lr * (equation.sum()/n)\n",
    "        mse.append(mean_squared_error(y, (m*X+b)))\n",
    "        error = ((y-(m*X+b))/y).mean()\n",
    "    \n",
    "    # return m which is only one weight\n",
    "    return m"
   ]
  },
  {
   "cell_type": "markdown",
   "id": "f4e7e310",
   "metadata": {},
   "source": [
    "### 1-2.\n",
    "\n",
    "Using the optimized weight vector, find the local maximum. [8 pts]"
   ]
  },
  {
   "cell_type": "code",
   "execution_count": 25,
   "id": "5df8c585",
   "metadata": {},
   "outputs": [
    {
     "data": {
      "text/plain": [
       "5.985067770668292"
      ]
     },
     "execution_count": 25,
     "metadata": {},
     "output_type": "execute_result"
    }
   ],
   "source": [
    "### code starts here. \n",
    "df = pd.read_csv('gradient_question.csv')\n",
    "my_gradient(df['x'], df['y'])"
   ]
  },
  {
   "cell_type": "markdown",
   "id": "d0bd9d2c",
   "metadata": {},
   "source": [
    "## Question 2 [20 pts]\n",
    "\n",
    "This question is a probability classification problem. Assuming that training a mixture of Gaussians model by maximum likelihood, students will find P(1|0.75) using data `Probability_Classification.csv`. In the dataset, there are two columns, **x** and **class**, where the **class** is the binary class.  "
   ]
  },
  {
   "cell_type": "code",
   "execution_count": 26,
   "id": "1e3bcb4f",
   "metadata": {},
   "outputs": [],
   "source": [
    "df = pd.read_csv('Probability_Classification.csv')"
   ]
  },
  {
   "cell_type": "markdown",
   "id": "2ea11fb5",
   "metadata": {},
   "source": [
    "### 2-1\n",
    "Find the prior, expected value, and variance for each class. [12 pts]"
   ]
  },
  {
   "cell_type": "code",
   "execution_count": 42,
   "id": "81e27761",
   "metadata": {},
   "outputs": [
    {
     "name": "stdout",
     "output_type": "stream",
     "text": [
      "Class 0, expected: 0.41685643071428563, variance: 1.1314040073498226\n",
      "Class 1, expected: 0.6093683605555555, variance: 0.9656620380982928\n",
      "Class [0, 1], expected: 0.52514439125, variance: 1.0472945915101584\n"
     ]
    }
   ],
   "source": [
    "### code starts here\n",
    "\n",
    "# Expected and variance functions\n",
    "def expected(x,y):\n",
    "    return x.sum() * 1/len(x)\n",
    "\n",
    "def variance(x,y):\n",
    "    return ((x - expected(x,y))**2).sum() * 1/len(x)\n",
    "\n",
    "# Make new dataframes with rows of certain class\n",
    "class_0 = df[df['class'] == 0]\n",
    "class_1 = df[df['class'] == 1]\n",
    "\n",
    "# Setting variables\n",
    "expected_0 = expected(class_0['x'], class_0['class'])\n",
    "variance_0 = variance(class_0['x'], class_0['class'])\n",
    "expected_1 = expected(class_1['x'], class_1['class'])\n",
    "variance_1 = variance(class_1['x'], class_1['class'])\n",
    "expected_0_1 = expected(df['x'], df['class'])\n",
    "variance_0_1 = variance(df['x'], df['class'])\n",
    "\n",
    "# Outputs\n",
    "print(f'Class 0, expected: {expected_0}, variance: {variance_0}')\n",
    "print(f'Class 1, expected: {expected_1}, variance: {variance_1}')\n",
    "print(f'Class [0, 1], expected: {expected_0_1}, variance: {variance_0_1}')"
   ]
  },
  {
   "cell_type": "markdown",
   "id": "fd9c5447",
   "metadata": {},
   "source": [
    "### 2-2\n",
    "Find the probability P(1|0.75)? [8 pts]"
   ]
  },
  {
   "cell_type": "code",
   "execution_count": 46,
   "id": "17abf0df",
   "metadata": {},
   "outputs": [
    {
     "data": {
      "text/plain": [
       "3.997365007678865e-29"
      ]
     },
     "execution_count": 46,
     "metadata": {},
     "output_type": "execute_result"
    }
   ],
   "source": [
    "### code starts here\n",
    "def factorial(n):\n",
    "    if n == 1:\n",
    "        return 1\n",
    "    else:\n",
    "        return n * factorial(n-1)\n",
    "    \n",
    "p = factorial(32)/(factorial(24)*factorial(32 -24))\n",
    "p"
   ]
  },
  {
   "cell_type": "markdown",
   "id": "7040f432",
   "metadata": {},
   "source": [
    "### Question 3 [20 pts]\n",
    "\n",
    "This question is a linear classification problem. Students are going to build the binary SVM and Logistic Regression to classify the data set, `LR_SVM.csv`. In the dataset, there are four columns, **x1**, **x2**, **y**, and **a**, where **y** is the class and **a** is the Lagrange Multiplier. You can attack the problem by "
   ]
  },
  {
   "cell_type": "markdown",
   "id": "8c599116",
   "metadata": {},
   "source": [
    "### 3-1\n",
    "Using the weight vector $\\vec{w}=[-5.653, 1.199, 0.822]$, build a Logisitc Regression Classifier, $\\sigma(\\vec{w}\\cdot \\vec{x})\\ge0.5$, and classify each $\\vec{x}=[x1,x2]^T$. Please do not copy and use the implemented logistic regression from Assignment 2. Determine which class $\\vec{x}=[3,3]^T$ belongs to. [10 pts]"
   ]
  }
 ],
 "metadata": {
  "kernelspec": {
   "display_name": "Python 3 (ipykernel)",
   "language": "python",
   "name": "python3"
  },
  "language_info": {
   "codemirror_mode": {
    "name": "ipython",
    "version": 3
   },
   "file_extension": ".py",
   "mimetype": "text/x-python",
   "name": "python",
   "nbconvert_exporter": "python",
   "pygments_lexer": "ipython3",
   "version": "3.9.5"
  }
 },
 "nbformat": 4,
 "nbformat_minor": 5
}
